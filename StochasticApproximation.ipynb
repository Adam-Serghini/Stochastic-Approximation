{
 "cells": [
  {
   "cell_type": "markdown",
   "metadata": {},
   "source": [
    "<div style=\"font-size:22pt; line-height:25pt; font-weight:bold; text-align:center;\">Stochastic Approximation</div>\n",
    "\n",
    "1. [Introduction](#sec1)\n",
    "2. [Solving a root-finding problem](#sec2)\n",
    "3. [Optimization Methods](#sec3)\n",
    "    1. [Finite Difference Stochastic Approximation](#sec3-1)\n",
    "    2. [Simultaneous Perturbation Stochastic Approximation](#sec3-2)\n",
    "    3. [Stochastic gradient descent](#sec3-3)\n",
    "4. [Application to implicit correlation search](#sec4)\n",
    "    1. [Black-Scholes model](#sec4-1)\n",
    "    2. [Best-of-Call options](#sec4-2)\n",
    "    3. [Problem](#sec4-3)\n",
    "5. [References](#sec5)"
   ]
  },
  {
   "cell_type": "markdown",
   "metadata": {},
   "source": [
    "<div class=\"alert alert-success\" style=\"margin-top: 1em\">\n",
    "\n",
    "**Essentials**<br/>\n",
    "    \n",
    "Stochastic approximation methods : \n",
    "<ul>\n",
    "<li> Iterative methods that use noisy signals\n",
    "<li> Allow to estimate properties of unknown functions through noisy observations\n",
    "<li> Are used in ML to minimise risk/loss functions\n",
    "<li> Had a major impact in signal processing, pattern recognition, and neural networks \n",
    "</ul>\n",
    "</div>"
   ]
  },
  {
   "cell_type": "code",
   "execution_count": 1,
   "metadata": {
    "scrolled": true
   },
   "outputs": [
    {
     "name": "stdout",
     "output_type": "stream",
     "text": [
      "Collecting chaospy\n",
      "  Downloading https://files.pythonhosted.org/packages/b4/02/86c8f11351da6223bd7f71c3458d3f56ff9a90b7ea15a8780d8ca34356bc/chaospy-3.1.1-py2.py3-none-any.whl (247kB)\n",
      "Collecting numpoly (from chaospy)\n",
      "  Downloading https://files.pythonhosted.org/packages/26/fe/1fed381444c4133bf31f785d76a44588670914280a1ae45eb9d21515ff71/numpoly-0.1.6-py2.py3-none-any.whl (75kB)\n",
      "Requirement already satisfied: scipy in c:\\users\\mbour\\anaconda3\\lib\\site-packages (from chaospy) (1.2.1)\n",
      "Requirement already satisfied: numpy in c:\\users\\mbour\\anaconda3\\lib\\site-packages (from chaospy) (1.16.4)\n",
      "Installing collected packages: numpoly, chaospy\n",
      "Successfully installed chaospy-3.1.1 numpoly-0.1.6\n",
      "Note: you may need to restart the kernel to use updated packages.\n"
     ]
    }
   ],
   "source": [
    "pip install chaospy"
   ]
  },
  {
   "cell_type": "code",
   "execution_count": 2,
   "metadata": {},
   "outputs": [],
   "source": [
    "import numpy as np\n",
    "import matplotlib.pyplot as plt\n",
    "from math import *\n",
    "import chaospy as cp"
   ]
  },
  {
   "cell_type": "markdown",
   "metadata": {},
   "source": [
    "# 1. <a id=\"sec1\"></a> Introduction\n",
    "\n",
    "In probability theory, a stochastic or random process is a mathematical object defined as a family of random variables. It represents the discreet or continuous evolution of a random variable.\n",
    "\n",
    "Stochastic approximation methods are iterative methods commonly used for root-finding problems or optimization problems. Stochastic approximation algorithms deal with unknown functions on which we have only access to some measures, with noise. We can't evaluate them directly.\n",
    "\n",
    "It is useful when trying to find properties of functions representing physical phenomenas, such as zeros and extremas, having access only to measures with noise. This is a daily issue for an engineer (in signal processing for example) hence the frequent use of these algorithms.\n"
   ]
  },
  {
   "cell_type": "markdown",
   "metadata": {},
   "source": [
    "#### Example: a function with normally distributed noise"
   ]
  },
  {
   "cell_type": "markdown",
   "metadata": {},
   "source": [
    "To illustrate the issue we are trying to solve using stochastic approximation methods we are going to define a function disrupted by a background gaussian noise. "
   ]
  },
  {
   "cell_type": "code",
   "execution_count": 3,
   "metadata": {},
   "outputs": [],
   "source": [
    "### Functions to use \n",
    "def M(x):\n",
    "    return 0.1*x**2-3*x+5\n",
    "\n",
    "def noise(x):\n",
    "    return np.random.normal(M(x))\n",
    "\n",
    "X = np.linspace(0,30,100)"
   ]
  },
  {
   "cell_type": "code",
   "execution_count": 4,
   "metadata": {},
   "outputs": [
    {
     "data": {
      "image/png": "[encoded data removed]",
      "text/plain": [
       "<Figure size 432x288 with 1 Axes>"
      ]
     },
     "metadata": {
      "needs_background": "light"
     },
     "output_type": "display_data"
    }
   ],
   "source": [
    "### Graphical representation \n",
    "plt.plot(X,M(X))\n",
    "plt.plot(X,noise(X))\n",
    "plt.title('Function with gaussian noise')\n",
    "plt.show()"
   ]
  },
  {
   "cell_type": "markdown",
   "metadata": {},
   "source": [
    "This basic example already shows that finding with precision the root of  $N(\\theta)$ is not easy, nor is finding extremas."
   ]
  },
  {
   "cell_type": "markdown",
   "metadata": {},
   "source": [
    "# 2. <a id=\"sec2\"></a> Solving a root-finding problem "
   ]
  },
  {
   "cell_type": "markdown",
   "metadata": {},
   "source": [
    "#### Robbins-Monro Algorithm [1]"
   ]
  },
  {
   "cell_type": "markdown",
   "metadata": {},
   "source": [
    "This algorithm was proposed **in 1951 by Herbert Robbins and Sutton Monro**. It introduces a methodology for solving a root finding problem. \n",
    "\n",
    "We have a function $M(\\theta)$ and a constant $\\alpha$ such that the equation $M(\\theta)=\\alpha$ has a unique root at $\\theta^*$. As stated previously we can't directly obesrve function $M$. We only have access to measures of random variable $N(\\theta)$ where $\\mathbb E[N(\\theta)]=M(\\theta)$. In other words $N(\\theta)$ is $M(\\theta)$ with additionnal gaussian noise. \n",
    "\n",
    "As classic stochastic methods, the algorithm is based on iterations on variable $\\theta$ such that :\n",
    "\n",
    "$$\\theta_{n+1}=\\theta_n-a_n\\cdot(N(\\theta_n)-\\alpha)$$\n",
    "\n",
    "\n",
    "\n",
    " $(a_n)$ is a sequence of positive step sizes. It needs to follow the following conditions for $\\theta_n$ to converge in $L^2$ :\n",
    " \n",
    " * $N(\\theta)$ is uniformly bounded\n",
    " * $M(\\theta)$ is non decreasing\n",
    " * $M'(\\theta^*)$ exists and is positive\n",
    " * Sequence $(a_n)$ satisfies : $ \\sum\\limits_{n=0}^{\\infty}a_n = +\\infty$ et $\\sum\\limits_{n=0}^{\\infty}a^2_n < +\\infty$\n",
    " \n",
    "\n",
    "Condition $\\sum a_n = +\\infty$ insures that no matter how far from $\\theta_0$ the minimum is, the procedure can converge. \n",
    "\n",
    "Condition $\\sum a_n^2 < +\\infty$ forces the step sizes to be a decreasing sequence. This avoids oscillations around the minimum.\n",
    "\n",
    "\n",
    "According to Blum the later condition ensures convergence with a probability one, as it averages out the noise in $N(\\theta)$.\n",
    "\n",
    "Robbins-Monro suggested the particular sequence $a_n=\\frac{a}{n}$ with $a>0$."
   ]
  },
  {
   "cell_type": "markdown",
   "metadata": {},
   "source": [
    "<div class=\"alert alert-warning\">\n",
    "    \n",
    "**Problem: Solve the root problem given in the introduction using Robbins-Monro algorithm.** <br> \n",
    "<ul>\n",
    "    Parameters to use :    \n",
    "<ul>   \n",
    "<li> Starting point $\\theta_{0}$\n",
    "<li> Number of iterations\n",
    "<li> $\\alpha$\n",
    "<li> Function with gaussian noise\n",
    "</div> "
   ]
  },
  {
   "cell_type": "code",
   "execution_count": null,
   "metadata": {},
   "outputs": [],
   "source": [
    "### WRITE YOUR CODE HERE"
   ]
  },
  {
   "cell_type": "markdown",
   "metadata": {},
   "source": [
    "<div class=\"alert alert-danger\"><a href=\"#answer1\" data-toggle=\"collapse\"><b>Ready to see the answer? (click to expand)</b></a><br>\n",
    "<div id=\"answer1\" class=\"collapse\">\n",
    "\n",
    "\n",
    "    def Robbins_Monro(theta_0,n_iter,alpha,N):\n",
    "    \n",
    "        thetas = np.zeros(n_iter)        \n",
    "        \n",
    "        thetas[0] = theta_0\n",
    "        \n",
    "        for n in range(1, n_iter):\n",
    "    \n",
    "            a_n= 1/n\n",
    "            \n",
    "            thetas[n] = thetas[n-1] - a_n*(N(thetas[n-1])-alpha)\n",
    "            \n",
    "        return thetas\n",
    "\n",
    "</div>\n",
    "</div>"
   ]
  },
  {
   "cell_type": "code",
   "execution_count": null,
   "metadata": {},
   "outputs": [],
   "source": [
    "sol = Robbins_Monro(20,100,0,noise)[-1]"
   ]
  },
  {
   "cell_type": "code",
   "execution_count": null,
   "metadata": {},
   "outputs": [],
   "source": [
    "### Graphical representation\n",
    "plt.plot(X,noise(X))\n",
    "plt.plot(X,[0]*len(X),'--')\n",
    "plt.plot(sol,0,marker='o')\n",
    "plt.text(sol-3, 0.5, r'$\\theta^*$', fontsize = 20)\n",
    "plt.title('Root problem')\n",
    "plt.show()"
   ]
  },
  {
   "cell_type": "code",
   "execution_count": null,
   "metadata": {},
   "outputs": [],
   "source": [
    "### Convergence of the algorithm for different starting points\n",
    "plt.subplot(211)\n",
    "plt.plot(Robbins_Monro(2,100,0,noise))\n",
    "plt.title('Convergence of the algorithm')\n",
    "\n",
    "plt.subplot(212)\n",
    "plt.plot(Robbins_Monro(20,100,0,noise))\n",
    "\n",
    "plt.show()"
   ]
  },
  {
   "cell_type": "markdown",
   "metadata": {},
   "source": [
    "We notice that we can only find one root, that for a $\\theta_{0}$ below the first root the algorithm will not work, and that the algorithm is much faster when $\\theta_{0}$ is superior to the minima of the function. \n",
    "This illustrates Blum's hypothesis that the convergence is more probable if $M(\\theta)$ is non-decreasing."
   ]
  },
  {
   "cell_type": "markdown",
   "metadata": {},
   "source": [
    "# 3. <a id=\"sec3\"></a> Optimization Methods\n"
   ]
  },
  {
   "cell_type": "markdown",
   "metadata": {},
   "source": [
    "### <a id=\"sec3-1\"></a> 3.A. Finite Difference Stochastic Approximation [1]"
   ]
  },
  {
   "cell_type": "markdown",
   "metadata": {},
   "source": [
    "#### Kiefer-Wolfowitz Algorithm"
   ]
  },
  {
   "cell_type": "markdown",
   "metadata": {},
   "source": [
    "Kiefer-Wolfowitz algorithm was proposed **in 1952 by Jacob Wolfowitz and Jack Kiefer**. It is highly inspired by Robbins-Monro. However it aims at stochastically finding extremas rather than roots.\n",
    "\n",
    "Let $M(\\theta)$ be a function with an extrema at point $\\theta^*$. Same as before we can't directly estimate function $M$ but have access to observations $N$ where $\\mathbb E[N(\\theta)]=M(\\theta)$.\n",
    "\n",
    "The algorithm follows a gradient-like method, with iterates being generated as follows :\n",
    "$$\\theta_{n+1}=\\theta_n-a_n\\cdot\\left(\\frac{N(\\theta_n+c_n)-N(\\theta_n-c_n)}{2c_n}\\right)$$ \n",
    "\n",
    "Sequence $\\{c_n\\}$ is the sequence of **finite difference** widths used for gradient approximation. Sequence $\\{a_n\\}$ is the size of the steps taken along that direction.\n",
    "\n",
    "Kiefer and Wolfowitz (and Blum later in 1954) proved that under certain conditions $x_{n}$ will converge in probability to $\\theta^*$ as $ n \\rightarrow +\\infty$.\n",
    "\n",
    "* $\\text{Var}(N(X))\\leq S \\leq \\infty$\n",
    "* $M(x)$ has a unique maximum (minimum) and is strongly concave (convex)\n",
    "* $\\{a_n\\}$ et $\\{c_n\\}$ must be infinite sequences of positive numbers such that :\n",
    "    - $c_n \\rightarrow 0$ as $ n \\rightarrow +\\infty$\n",
    "    \n",
    "    - $\\sum_{n=0}^\\infty a_n=+\\infty$\n",
    "    \n",
    "    - $\\sum_{n=0}^\\infty a_nc_n< +\\infty$\n",
    "    \n",
    "    - $\\sum_{n=0}^\\infty (\\frac{a_n}{c_n})^{2}< +\\infty$\n",
    "\n",
    "Under these conditions we can find the extrema of a function $M$ using the noisy observations $N$ available.\n",
    "\n",
    "The selected sequences $a_n=\\frac{1}{n}$ and $c_n=n^{-1/4}$ satisfy the mentionned conditions."
   ]
  },
  {
   "cell_type": "markdown",
   "metadata": {},
   "source": [
    "<div class=\"alert alert-warning\">\n",
    "    \n",
    "**Problem: Find the extrema of the function given in the introduction using Kiefer-Wolfowitz algorithm.** <br> \n",
    "<ul>\n",
    "    Parameters to use :    \n",
    "<ul>   \n",
    "<li> Starting point $\\theta_{0}$\n",
    "<li> Number of iterations\n",
    "<li> Function with gaussian noise\n",
    "</div> "
   ]
  },
  {
   "cell_type": "code",
   "execution_count": null,
   "metadata": {},
   "outputs": [],
   "source": [
    "### WRITE YOUR CODE HERE"
   ]
  },
  {
   "cell_type": "markdown",
   "metadata": {},
   "source": [
    "<div class=\"alert alert-danger\"><a href=\"#answer2\" data-toggle=\"collapse\"><b>Ready to see the answer? (click to expand)</b></a><br>\n",
    "<div id=\"answer2\" class=\"collapse\">\n",
    "\n",
    "    def Kiefer_Wolfowitz(theta_0,n_iter,N):\n",
    "\n",
    "        thetas = np.zeros(n_iter)        \n",
    "\n",
    "        thetas[0] = theta_0\n",
    "\n",
    "        for n in range(1, n_iter):\n",
    "        \n",
    "            a_n= 1/n\n",
    "            \n",
    "            c_n= 1/n**0.25\n",
    "\n",
    "            thetas[n] = thetas[n-1] - (a_n/(2*c_n))*(N(thetas[n-1]+c_n)-N(thetas[n-1]-c_n))\n",
    "\n",
    "        return thetas\n",
    "\n",
    "</div>\n",
    "</div>"
   ]
  },
  {
   "cell_type": "code",
   "execution_count": null,
   "metadata": {},
   "outputs": [],
   "source": [
    "sol = Kiefer_Wolfowitz(2, 100000, noise)[-1]"
   ]
  },
  {
   "cell_type": "code",
   "execution_count": null,
   "metadata": {},
   "outputs": [],
   "source": [
    "### Graphical representation\n",
    "plt.plot(X,noise(X))\n",
    "plt.plot(X,M(X))\n",
    "plt.plot(sol,M(sol),marker='o')\n",
    "plt.plot(X,[M(sol)]*len(X),'--')\n",
    "plt.text(sol, M(sol)+2, r'$\\theta^*$', fontsize = 20)\n",
    "plt.title('Extrema problem')\n",
    "plt.show()"
   ]
  },
  {
   "cell_type": "markdown",
   "metadata": {},
   "source": [
    "However for a search space with dimension $d$, Kiefer Wolfowitz algorithm requires at least $d+1$ parameters for each gradient computation. For large dimension spaces convergence might be slow, due to high computational effort per iteration... \n",
    "\n",
    "Spall proposed the use of **simultaneous perturbations** to estimate the gradient, leading to the use of only 2 simulations per iteration, whatever the dimension."
   ]
  },
  {
   "cell_type": "markdown",
   "metadata": {},
   "source": [
    "### <a id=\"sec3-2\"></a> 3.B. Simultaneous Perturbation Stochastic Approximation [2]\n"
   ]
  },
  {
   "cell_type": "markdown",
   "metadata": {},
   "source": [
    "SPSA is a descent method capable to find a global minima. The gradient approximation requires only two measures regardless of the dimension of the optimization problem.\n",
    "\n",
    "It uses the same iteration process as finite differences:\n",
    " \n",
    "$$\\theta_{n+1}=\\theta_n-a_n\\cdot(\\hat{g}_n(\\theta_n))$$\n",
    "\n",
    "We are going to introduce $\\Delta_n$, a random perturbation vector.\n",
    "\n",
    "$$\\quad (\\hat{g}_n(\\theta_n))_i=\\dfrac{N(\\theta_n+c_n\\Delta_n)-N(\\theta_n-c_n\\Delta_n)}{2c_n(\\Delta_n)_i}$$\n",
    "\n",
    "In finite difference we only perturb one direction at a time, while in simultaneous perturbation the estimator disturbs all directions."
   ]
  },
  {
   "cell_type": "markdown",
   "metadata": {},
   "source": [
    "### 3.C. <a id=\"sec3-3\"></a> Stochastic gradient descent [3]\n"
   ]
  },
  {
   "cell_type": "markdown",
   "metadata": {},
   "source": [
    "Stochastic gradient descent is used in machine learning when trying to learn the weights of a neural network.\n",
    "\n",
    "As seen in the neural network class, a neural network with a fixed graph structure is a parametric function $f_\\theta$ where $\\theta$ is the vector of all parameters (all weights and biases). Learning a neural network that correctly predicts $y$ corresponds to finding the parameters $\\theta$ that minimize the following function.\n",
    "$$L(\\theta) = \\displaystyle \\mathbb{E}_{(x,y)\\sim p(x,y)} \\left[ \\left(f_\\theta(x) - y\\right)^2 \\right] = \\int_{x,y} \\left[ \\left(f_\\theta(x) - y\\right)^2 \\right] \\mathrm{d}p(x,y) $$\n",
    "\n",
    "This is called the **loss or risk function**, it is the delta between our estimation and the optimum. We wish to minimize this delta."
   ]
  },
  {
   "cell_type": "markdown",
   "metadata": {},
   "source": [
    "We take a starting point $\\theta_0$ for the parameters of $f_\\theta$. A plain gradient descent will allow us to reach the optimal $\\theta^*$, moving in the opposite direction of the gradient of $L(\\theta)$ with respect to $\\theta$. \n",
    "\n",
    "\\begin{align*}\n",
    "\\displaystyle \\nabla_\\theta L(\\theta) &= \\nabla_\\theta \\left[ \\mathbb{E}_{(x,y)\\sim p(x,y)} \\left[ \\left(f_\\theta(x) - y\\right)^2 \\right] \\right]\\\\\n",
    "&= \\mathbb{E}_{(x,y)\\sim p(x,y)} \\left[ \\nabla_\\theta \\left[ \\left(f_\\theta(x) - y\\right)^2 \\right] \\right]\\\\\n",
    "&= \\mathbb{E}_{(x,y)\\sim p(x,y)} \\left[ 2 \\left(f_\\theta(x) - y\\right) \\nabla_\\theta f_\\theta(x) \\right]\n",
    "\\end{align*}\n",
    "\n",
    "$$\\nabla_\\theta L(\\theta) = \\int_{x,y} 2 \\left(f_\\theta(x) - y\\right) \\nabla_\\theta f_\\theta(x) \\mathrm{d}p(x,y)$$"
   ]
  },
  {
   "cell_type": "markdown",
   "metadata": {},
   "source": [
    "this expression requires the knowledge of $p(x,y)$ for all possible $(x,y)$ pairs, thus an infinite amount of data. We can try to approximate this gradient with a finite data set $\\left\\{\\left(x_i,y_i\\right)\\right\\}_{i\\in [1,N]}$:\n",
    "$$\\nabla_\\theta L(\\theta) \\approx \\sum_{i=1}^N 2 \\left(f_\\theta(x_i) - y_i\\right) \\nabla_\\theta f_\\theta(x_i) = g(\\theta)$$\n",
    "\n",
    "This is a noisy estimation of the gradient. We can use **stochastic gradient descent**. \n",
    "As stated previously, if $g(\\theta)$ is a noisy estimator of $\\nabla_\\theta L(\\theta)$, then the following sequence $\\theta_n$ converges to a local minimum of $L(\\theta)$:\n",
    "$$\\theta_{n+1} = \\theta_n - a_n\\cdot g(\\theta_n)$$\n",
    "under the same Robbins-Monro conditions as in part 2.\n",
    "\n",
    "This allows to find some optimal weights for our network."
   ]
  },
  {
   "cell_type": "markdown",
   "metadata": {},
   "source": [
    "# 4. <a id=\"sec4\"></a> Application to implicit correlation search\n"
   ]
  },
  {
   "cell_type": "markdown",
   "metadata": {},
   "source": [
    "### 4.A. <a id=\"sec4-1\"></a> Black-Scholes model [4]"
   ]
  },
  {
   "cell_type": "markdown",
   "metadata": {},
   "source": [
    "An option is a financial derivative that gives the holder the right to trade the underlying asset at a certain date $T$ for a certain price $K$.\n",
    "\n",
    "**Black, Scholes and Merton** established in **1973** a mathematical model to price such products. Solving the partial differential equation (1) gives a theoretical estimate of the price of these options.\n",
    "\n",
    "(1) Black-Scholes equation 1D :\n",
    "$$ \\dfrac{\\partial V}{\\partial t} + \\frac{1}{2}\\sigma^2X^2\\dfrac{\\partial^2 V}{\\partial^2 X} + rX\\dfrac{\\partial V}{\\partial X} +rV = 0$$"
   ]
  },
  {
   "cell_type": "markdown",
   "metadata": {},
   "source": [
    "Black-Scholes formula allows to determine the theoretical value $V$ of an option thanks to these parameters :\n",
    "<ul>\n",
    "<li> $r$ is the risk free rate\n",
    "<li> $X$ is the spot price of the underlying asset\n",
    "<li> $\\sigma$ is the volatility of returns\n",
    "<lu>\n",
    "The noise will be a random gaussian perturbation on this volatility."
   ]
  },
  {
   "cell_type": "markdown",
   "metadata": {},
   "source": [
    "The payoff (value at t = T) of a Call (giving the right to buy the asset) is $ P(X, T) = max(X_{T} - K)_{+} $\n",
    "<ul>\n",
    "<li> $K$ is the strike price\n",
    "<li> $T$ is the maturity time \n",
    "<lu>"
   ]
  },
  {
   "cell_type": "markdown",
   "metadata": {},
   "source": [
    "### 4.B. <a id=\"sec4-2\"></a> Best-of-Call options [5]"
   ]
  },
  {
   "cell_type": "markdown",
   "metadata": {},
   "source": [
    "In this example we are going to consider an exotic option : Best-of-Call. The return is evaluated on the maximum of two underlying assets. This type of product allows to diversify a portfolio, thus lowering its risk. \n",
    "\n",
    "The new PDE is :\n",
    "\n",
    "$$ \\dfrac{\\partial V}{\\partial t} = - \\frac{1}{2}\\sigma_{1}^2x_{1}^2\\dfrac{\\partial^2 V}{\\partial^2 x_{1}} - \\frac{1}{2}\\sigma_{2}^2x_{2}^2\\dfrac{\\partial^2 V}{\\partial^2 x_{2}} - \\rho\\sigma_{1}\\sigma_{2}x_{1}x_{2}\\dfrac{\\partial^2 V}{\\partial x_{1}\\partial x_{2}} - rx_{1}\\dfrac{\\partial V}{\\partial x_{1}} - rx_{2}\\dfrac{\\partial V}{\\partial x_{2}}-rV$$\n",
    "\n",
    "The payoff is the following : $ P(X_{1}, X_{2}, T) = (max(X_{T}^1, X_{T}^2) - K)_{+} $\n",
    "\n",
    "\n",
    "$\\rho$ is the correlation between the two assets.\n",
    "The more the underlying assets are correlated (Microsoft and Apple) the less the product has chances to end \"in the money\". If on the other hand you pick assets which are strongly anti-correlated you are more likely yo make money. The fall of an underlying asset will induce the increase of the other one. Thus the product will be more expensive to buy. "
   ]
  },
  {
   "cell_type": "markdown",
   "metadata": {},
   "source": [
    "Black Sholes PDE gives the following formulas :\n",
    "    \n",
    "\n",
    "$X_{T}^1 = x_{0}^1e^{\\mu_{1}T + \\sigma_{1}\\sqrt(T)Z^1}$\n",
    "\n",
    "$X_{T}^2 = x_{0}^2e^{\\mu_{2}T + \\sigma_{2}\\sqrt(T)(\\rho Z^1 + \\sqrt(1-\\rho ^2) Z^2)}$\n",
    "\n",
    "$Z_{n}$ follows a normal distribution.\n",
    "\n",
    "And the price of the Best of Call satisfies this relation :\n",
    "\n",
    "$$P_{BoC}(x_{0}^1, x_{0}^2, K, \\sigma_{1}, \\sigma_{2}, r, \\rho, $T$) = e^{-rT}\\mathbb E[(max(X_{T}^1, X_{T}^2)-K)_{+}]$$"
   ]
  },
  {
   "cell_type": "markdown",
   "metadata": {},
   "source": [
    "In this problem the noise will be on the volatility of the asset. It is a quasi-random normal noise $Z_n$ (which we obtain through a transformation of a 2D Halton sequence $H_{n}$) [6, 7]. We use the chaospy library to build this sequence.\n",
    "\n",
    "$$Z_n = (\\sqrt(-2log(H_{n}^1))sin(2\\pi H_{n}^2), \\sqrt(-2log(H_{n}^1))cos(2\\pi H_{n}^2))$$\n"
   ]
  },
  {
   "cell_type": "markdown",
   "metadata": {},
   "source": [
    "### 4.C. <a id=\"sec4-3\"></a> Problem"
   ]
  },
  {
   "cell_type": "markdown",
   "metadata": {},
   "source": [
    "In this problem we want to determine the implicit correlation between two assets knowing the market price of a Best-of-Call product. In other words we want to solve the following equation in $\\rho$.\n",
    "\n",
    "$P_{BoC}(x_{0}^1, x_{0}^2, K, \\sigma_{1}, \\sigma_{2}, r, \\rho, $T$, Z_{n}) = P_{0}^{market}$\n",
    "\n",
    "To avoid side effects on $\\rho$ we will use $\\rho = cos(\\theta)$.\n",
    "\n",
    "Extracting the implicit correlation from the market amounts to solving $P(\\theta_{n}, Z_{n}) = P_{0}^{market}$.\n",
    "\n",
    "Here we have access to $P_{0}^{market}$, the option price on the market. We will use a stochastic recursive procedure to solve the inverse problem in $\\rho$. "
   ]
  },
  {
   "cell_type": "markdown",
   "metadata": {},
   "source": [
    "#### <li> Definition of the the quasi random normal number sequence"
   ]
  },
  {
   "cell_type": "code",
   "execution_count": 5,
   "metadata": {},
   "outputs": [],
   "source": [
    "size = 300"
   ]
  },
  {
   "cell_type": "code",
   "execution_count": 6,
   "metadata": {},
   "outputs": [],
   "source": [
    "### 2 dimensional Halton Sequence\n",
    "H = cp.distributions.sampler.sequences.halton.create_halton_samples(size, dim=2)"
   ]
  },
  {
   "cell_type": "code",
   "execution_count": 7,
   "metadata": {},
   "outputs": [],
   "source": [
    "Z = np.zeros((2, size))\n",
    "for i in range(size-1):\n",
    "    Z[0][i] = sqrt(-2*log(H[0][i]))*np.sin(2*pi*H[1][i])\n",
    "    Z[1][i] = sqrt(-2*log(H[0][i]))*np.cos(2*pi*H[1][i])"
   ]
  },
  {
   "cell_type": "code",
   "execution_count": 8,
   "metadata": {},
   "outputs": [
    {
     "data": {
      "image/png": "[encoded data removed]",
      "text/plain": [
       "<Figure size 432x288 with 1 Axes>"
      ]
     },
     "metadata": {
      "needs_background": "light"
     },
     "output_type": "display_data"
    }
   ],
   "source": [
    "### Graphical representation\n",
    "X = np.arange(0, size)\n",
    "plt.plot(X,Z[1])\n",
    "plt.title('Quasi random normal noise')\n",
    "plt.show()"
   ]
  },
  {
   "cell_type": "markdown",
   "metadata": {},
   "source": [
    "#### <li> Definition of the objective function"
   ]
  },
  {
   "cell_type": "markdown",
   "metadata": {},
   "source": [
    "<div class=\"alert alert-warning\">\n",
    "    \n",
    "**Exercise: Write the equation to solve.** <br> \n",
    "<ul>\n",
    "Let's give to the model parameters the following values:\n",
    "<ul>\n",
    "   \n",
    "<li> $x_{0}^1$ = $x_{0}^2$ = 100\n",
    "<li> r = 0.10\n",
    "<li> $\\sigma_{1}$ = $\\sigma_{2}$ = 0.30\n",
    "    \n",
    "And for the payoff : $T = 1$, $K = 100$. \n",
    "\n",
    "</div> "
   ]
  },
  {
   "cell_type": "markdown",
   "metadata": {},
   "source": [
    "<div class=\"alert alert-warning\">\n",
    "    \n",
    "**<li> Define $X_{T}^1$ and $X_{T}^2$ .** <br>\n",
    "\n",
    "</div> "
   ]
  },
  {
   "cell_type": "code",
   "execution_count": null,
   "metadata": {},
   "outputs": [],
   "source": [
    "### WRITE YOUR CODE HERE"
   ]
  },
  {
   "cell_type": "markdown",
   "metadata": {},
   "source": [
    "<div class=\"alert alert-danger\"><a href=\"#answer3\" data-toggle=\"collapse\"><b>Ready to see the answer? (click to expand)</b></a><br>\n",
    "<div id=\"answer3\" class=\"collapse\">\n",
    "    \n",
    "    def X_1(x_01,K,s1,r,T,rho,size, Z):\n",
    "        X1 = np.zeros(size)\n",
    "        mu1 = r - s1**2/2\n",
    "        for i in range(size) :\n",
    "            X1[i] = x_01*np.exp(mu1*T + s1*sqrt(T)*Z[0][i])\n",
    "        return X1\n",
    "\n",
    "    def X_2(x_02,K,s2,r,T,rho,size, Z):\n",
    "        X2 = np.zeros(size)\n",
    "        mu2 = r - s2**2/2\n",
    "        for i in range(size) :\n",
    "            X2[i] = x_02*np.exp(mu2*T + s2*sqrt(T)*(rho*Z[0][i] + sqrt(1-rho**2)*Z[1][i]))\n",
    "        return X2 \n",
    "\n",
    "</div>\n",
    "</div>"
   ]
  },
  {
   "cell_type": "markdown",
   "metadata": {},
   "source": [
    "<div class=\"alert alert-warning\">\n",
    "    \n",
    "**<li> Define $P(\\theta_{n}, Z_{n})$ .** <br> \n",
    "\n",
    "</div> "
   ]
  },
  {
   "cell_type": "code",
   "execution_count": null,
   "metadata": {},
   "outputs": [],
   "source": [
    "### WRITE YOUR CODE HERE"
   ]
  },
  {
   "cell_type": "markdown",
   "metadata": {},
   "source": [
    "<div class=\"alert alert-danger\"><a href=\"#answer4\" data-toggle=\"collapse\"><b>Ready to see the answer? (click to expand)</b></a><br>\n",
    "<div id=\"answer4\" class=\"collapse\">\n",
    "\n",
    "    def P(theta, Z):\n",
    "    \n",
    "        x_01 = 100\n",
    "        x_02 = 100\n",
    "        r = 0.10\n",
    "        s1 = 0.30\n",
    "        s2 = 0.30\n",
    "        T = 1\n",
    "        K = 100\n",
    "    \n",
    "        X1 = X_1(x_01,K,s1,r,T,cos(theta),size, Z)\n",
    "        X2 = X_2(x_02,K,s2,r,T,cos(theta),size, Z)\n",
    "    \n",
    "        Xmax = np.zeros(size)\n",
    "        for i in range(size):\n",
    "            Xmax[i] = max(X1[i], X2[i])\n",
    "    \n",
    "        payoff = np.zeros(size)\n",
    "        for i in range(size):\n",
    "            payoff[i] = max(Xmax[i]-K, 0)\n",
    "        \n",
    "        return np.exp(-r*T)*np.mean(payoff)    \n",
    "\n",
    "</div>\n",
    "</div>"
   ]
  },
  {
   "cell_type": "markdown",
   "metadata": {},
   "source": [
    "We can already use this function to evaluate what should be the market price of our derivative given the correlation between the assets."
   ]
  },
  {
   "cell_type": "code",
   "execution_count": null,
   "metadata": {
    "scrolled": true
   },
   "outputs": [],
   "source": [
    "### Price boundaries of our problem\n",
    "a = P(np.arccos(1), Z)\n",
    "b = P(np.arccos(-1), Z)\n",
    "print(a,b)"
   ]
  },
  {
   "cell_type": "markdown",
   "metadata": {},
   "source": [
    "Given a spot price of 100 at $t=0$, a volatility of 0.30, and a strike price of 100 this result makes sense.\n",
    "\n",
    "Indeed the holder of this product will exercise it at $t=T$. He will be able to buy the underlying asset for 100. And if the assets are strongly anticorrelated it is more likely that one of them will have be valued at $100 \\cdot (1 + 0.30)$. "
   ]
  },
  {
   "cell_type": "markdown",
   "metadata": {},
   "source": [
    "#### <li> Recursive procedure\n",
    "$$\\theta_{n+1}=\\theta_n-a_{n}\\cdot(P(\\theta_n, Z_{n})-P_{0}^{market})$$\n"
   ]
  },
  {
   "cell_type": "markdown",
   "metadata": {},
   "source": [
    "<div class=\"alert alert-warning\">\n",
    "    \n",
    "**Exercise: Solve the optimization.** <br> \n",
    "<ul>\n",
    "The Black-Scholes reference price is $P_{0}^{market} = 30.75$.\n",
    "\n",
    "For this price we should find a -0.5 correlation [5].\n",
    "\n",
    "For the stochastic approximation we will use the following conditions :\n",
    "<ul>\n",
    "<li> $\\theta_{0}$ = 0\n",
    "<li> $a_{n}$ = $\\frac{1}{n}$\n",
    "</div> "
   ]
  },
  {
   "cell_type": "code",
   "execution_count": null,
   "metadata": {},
   "outputs": [],
   "source": [
    "### WRITE YOUR CODE HERE"
   ]
  },
  {
   "cell_type": "markdown",
   "metadata": {},
   "source": [
    "<div class=\"alert alert-danger\"><a href=\"#answer5\" data-toggle=\"collapse\"><b>Ready to see the answer? (click to expand)</b></a><br>\n",
    "<div id=\"answer5\" class=\"collapse\">\n",
    "    \n",
    "    def Robbins_Monro_bis(theta_0,n_iter,P_0,P, Z):\n",
    "\n",
    "        thetas = np.zeros(n_iter)        \n",
    "\n",
    "        thetas[0] = theta_0\n",
    "\n",
    "        for n in range(1, n_iter):\n",
    "\n",
    "            a_n= 1/n\n",
    "\n",
    "            thetas[n] = thetas[n-1] - a_n*(P(thetas[n-1], Z)-P_0)\n",
    "\n",
    "        return thetas\n",
    "\n",
    "</div>\n",
    "</div>"
   ]
  },
  {
   "cell_type": "code",
   "execution_count": null,
   "metadata": {},
   "outputs": [],
   "source": [
    "sol = Robbins_Monro_bis(0, size, 30.75, P, Z)\n",
    "np.cos(sol[-1])"
   ]
  },
  {
   "cell_type": "markdown",
   "metadata": {},
   "source": [
    "\n",
    "$$\\rho_{n} = cos(\\theta_{n})$$.\n"
   ]
  },
  {
   "cell_type": "code",
   "execution_count": null,
   "metadata": {},
   "outputs": [],
   "source": [
    "### Graphical representation\n",
    "X = np.arange(0, size)\n",
    "plt.plot(X,np.cos(sol))\n",
    "plt.plot(X,[-0.5]*len(X),'--')\n",
    "plt.title('Implicit Correlation Search')\n",
    "plt.show()"
   ]
  },
  {
   "cell_type": "markdown",
   "metadata": {},
   "source": [
    "#### <li> Results"
   ]
  },
  {
   "cell_type": "markdown",
   "metadata": {},
   "source": [
    "The graph below represents the evolution of the implicit correlation between two assets in function of the market price of the Best-of-Calls product.\n",
    "\n",
    "As expected it is decreasing : strongly anti-correlated assets have a good chance of ending \"in-the-money\" (i.e. $max(X_{T}^1, X_{T}^2) > K$. ) and are thus more expensive.\n"
   ]
  },
  {
   "cell_type": "code",
   "execution_count": null,
   "metadata": {},
   "outputs": [],
   "source": [
    "A = [Robbins_Monro_bis(0, size, i, P, Z)[-1] for i in np.arange(a, b)]"
   ]
  },
  {
   "cell_type": "code",
   "execution_count": null,
   "metadata": {},
   "outputs": [],
   "source": [
    "B = [np.cos(x) for x in A]"
   ]
  },
  {
   "cell_type": "code",
   "execution_count": null,
   "metadata": {},
   "outputs": [],
   "source": [
    "### Graphical representation\n",
    "X = np.arange(P(np.arccos(1), Z), P(np.arccos(-1), Z))\n",
    "plt.plot(X,B)\n",
    "plt.title('Implicit Correlation = F(price)')\n",
    "plt.show()"
   ]
  },
  {
   "cell_type": "markdown",
   "metadata": {},
   "source": [
    "# 5. <a id=\"sec5\"></a> References\n",
    "\n",
    "[1] : https://en.wikipedia.org/wiki/Stochastic_approximation\n",
    "\n",
    "[2] : https://en.wikipedia.org/wiki/Simultaneous_perturbation_stochastic_approximation\n",
    "\n",
    "[3] : https://github.com/erachelson/MLclass\n",
    "\n",
    "[4] : https://en.wikipedia.org/wiki/Black%E2%80%93Scholes_model\n",
    "\n",
    "[5] : https://pdfs.semanticscholar.org/6b14/d8e7e628dd2d7cb0de5f5b6a4f3d924f2f44.pdf\n",
    "\n",
    "[6] : https://hal.archives-ouvertes.fr/hal-00504644v4/document\n",
    "\n",
    "[7] : https://en.wikipedia.org/wiki/Halton_sequence"
   ]
  }
 ],
 "metadata": {
  "kernelspec": {
   "display_name": "Python 3",
   "language": "python",
   "name": "python3"
  },
  "language_info": {
   "codemirror_mode": {
    "name": "ipython",
    "version": 3
   },
   "file_extension": ".py",
   "mimetype": "text/x-python",
   "name": "python",
   "nbconvert_exporter": "python",
   "pygments_lexer": "ipython3",
   "version": "3.7.4"
  }
 },
 "nbformat": 4,
 "nbformat_minor": 2
}
